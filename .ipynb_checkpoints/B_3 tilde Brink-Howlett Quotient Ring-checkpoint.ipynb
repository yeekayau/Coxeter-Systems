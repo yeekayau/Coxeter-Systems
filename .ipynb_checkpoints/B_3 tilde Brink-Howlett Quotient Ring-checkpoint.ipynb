{
 "cells": [
  {
   "cell_type": "markdown",
   "metadata": {},
   "source": [
    "Set up field for the vector space to work in exact precision"
   ]
  },
  {
   "cell_type": "code",
   "execution_count": 1,
   "metadata": {},
   "outputs": [
    {
     "data": {
      "text/plain": [
       "Multivariate Polynomial Ring in x1, x2, x3, x4, x5, x6, x7, x8 over Rational Field"
      ]
     },
     "execution_count": 1,
     "metadata": {},
     "output_type": "execute_result"
    }
   ],
   "source": [
    "P.<x1, x2, x3, x4, x5, x6, x7, x8> = QQ[]\n",
    "P"
   ]
  },
  {
   "cell_type": "code",
   "execution_count": 2,
   "metadata": {},
   "outputs": [
    {
     "data": {
      "text/plain": [
       "x8^5 - 1/2*x8^4 - x8^3 + 3/8*x8^2 + 3/16*x8 - 1/32"
      ]
     },
     "execution_count": 2,
     "metadata": {},
     "output_type": "execute_result"
    }
   ],
   "source": [
    "cos(pi/11).minpoly('x8')"
   ]
  },
  {
   "cell_type": "code",
   "execution_count": 3,
   "metadata": {},
   "outputs": [
    {
     "data": {
      "text/plain": [
       "Quotient of Multivariate Polynomial Ring in x1, x2, x3, x4, x5, x6, x7, x8 over Rational Field by the ideal (x1^2 - 1/2, x2^2 - 1/2*x2 - 1/4, x3^2 - 3/4, x4^3 - 1/2*x4^2 - 1/2*x4 + 1/8, x5^4 - x5^2 + 1/8, x6^3 - 3/4*x6 - 1/8, x7^4 - 5/4*x7^2 + 5/16, x8^5 - 1/2*x8^4 - x8^3 + 3/8*x8^2 + 3/16*x8 - 1/32)"
      ]
     },
     "execution_count": 3,
     "metadata": {},
     "output_type": "execute_result"
    }
   ],
   "source": [
    "R.<t1, t2, t3, t4, t5, t6, t7, t8> = QuotientRing(P, P.ideal(cos(pi/4).minpoly('x1'), cos(pi/5).minpoly('x2'), cos(pi/6).minpoly('x3'), cos(pi/7).minpoly('x4'), cos(pi/8).minpoly('x5'), cos(pi/9).minpoly('x6'), cos(pi/10).minpoly('x7'), cos(pi/11).minpoly('x8')))\n",
    "R"
   ]
  },
  {
   "cell_type": "code",
   "execution_count": 52,
   "metadata": {},
   "outputs": [],
   "source": [
    "# Input the complete matrix, not just lower triangular\n",
    "\n",
    "# Coxeter matrix are the values -cos(pi/m) (not just the usual m) but as elements of the polynomial ring\n",
    "\n",
    "# Matrix for B2 Tilde\n",
    "#coxeter_matrix = matrix([[1,(-1)*t1,0], [(-1)*t1,1,(-1)*t1],[0,(-1)*t1,1]])\n",
    "\n",
    "\n",
    "# Matrix for B_3 Tilde\n",
    "#coxeter_matrix = matrix([[1,(-1/2)*t,0,0], [(-1/2)*t,1,(-1/2),(-1/2)],[0,(-1/2),1,0],[0,(-1/2),0,1]])\n",
    "\n",
    "# Matrix for B_4 Tilde\n",
    "#coxeter_matrix = matrix([[1,(-1)*t1,0,0,0], [(-1)*t1,1,(-1/2),0,0],[0,(-1/2),1,(-1/2),(-1/2)],[0,0,(-1/2),1,0],[0,0,(-1/2),0,1]])\n",
    "\n",
    "\n",
    "# Matrix for G2\n",
    "#coxeter_matrix = matrix([[1,(-1/2),0], [(-1/2),1,(-1)*t3],[0,(-1)*t3,1]])\n",
    "\n",
    "# Matrix for 3,7\n",
    "#coxeter_matrix = matrix([[1,(-1/2),0], [(-1/2),1,(-1)*t4],[0,(-1)*t4,1]])\n",
    "\n",
    "# Matrix for 3,8\n",
    "coxeter_matrix = matrix([[1,(-1/2),0], [(-1/2),1,(-1)*t5],[0,(-1)*t5,1]])\n",
    "\n",
    "# Matrix for 3,9\n",
    "#coxeter_matrix = matrix([[1,(-1/2),0], [(-1/2),1,(-1)*t6],[0,(-1)*t6,1]])\n",
    "\n",
    "# Matrix for 3,10\n",
    "#coxeter_matrix = matrix([[1,(-1/2),0], [(-1/2),1,(-1)*t7],[0,(-1)*t7,1]])\n",
    "\n",
    "# Matrix for 3,11\n",
    "#coxeter_matrix = matrix([[1,(-1/2),0], [(-1/2),1,(-1)*t8],[0,(-1)*t8,1]])\n",
    "\n",
    "# Matrix for 4,4,3,5\n",
    "#coxeter_matrix = matrix([[1,(-1)*t1,0,0], [(-1)*t1,1,(-1/2),(-1)*t1],[0,(-1/2),1,(-1)*t2],[0,(-1)*t1, (-1)*t2, 1]])\n",
    "\n",
    "# Matrix for C_3 tilde\n",
    "#coxeter_matrix = matrix([[1,(-1)*t1,0,0], [(-1)*t1,1,(-1/2),0],[0,(-1/2),1,(-1)*t1],[0,0,(-1)*t1, 1]])\n"
   ]
  },
  {
   "cell_type": "code",
   "execution_count": 53,
   "metadata": {},
   "outputs": [
    {
     "data": {
      "text/plain": [
       "[   1 -1/2    0]\n",
       "[-1/2    1  -t5]\n",
       "[   0  -t5    1]"
      ]
     },
     "execution_count": 53,
     "metadata": {},
     "output_type": "execute_result"
    }
   ],
   "source": [
    "coxeter_matrix"
   ]
  },
  {
   "cell_type": "code",
   "execution_count": 54,
   "metadata": {},
   "outputs": [],
   "source": [
    "v = FreeModule(R,3)\n",
    "dim_v = 3"
   ]
  },
  {
   "cell_type": "code",
   "execution_count": 55,
   "metadata": {},
   "outputs": [],
   "source": [
    "def bilinear(x,y):\n",
    "    '''Computes the bilinear form of two roots'''\n",
    "    temp = 0\n",
    "    for i in range(dim_v):\n",
    "        for j in range(dim_v):\n",
    "            temp += x[i]*y[j]*(coxeter_matrix[i,j])\n",
    "    return temp\n",
    "\n",
    "def s(i):\n",
    "    '''Returns the ith simple root'''\n",
    "    return v.basis()[i]\n",
    "\n",
    "def simple_reflection(s,x):\n",
    "    return x-2*bilinear(x,s)*s\n",
    "\n",
    "def w_action(word_list,x):\n",
    "    '''Input a word w in the generators as a list and a root \\alpha. Returns w(\\alpha)'''\n",
    "    temp_x = x\n",
    "    word_list.reverse()\n",
    "    \n",
    "    for s in word_list:\n",
    "        temp_x = simple_reflection(s,temp_x)   \n",
    "    \n",
    "    # reverse back as it reverses the word outside this function as well\n",
    "    word_list.reverse()\n",
    "    \n",
    "    return temp_x\n",
    "\n",
    "def inversion_set(w):\n",
    "    '''Returns the left inversion set of an element w as a list'''\n",
    "    inversionlist = [w[0]]\n",
    "\n",
    "    for i in range(len(w)-1):        \n",
    "        # note: w[0:i+1] does not include the endpoint i+1\n",
    "        temp = w[0:i+1]\n",
    "        inversionlist.append(w_action(temp,w[i+1]))\n",
    "        \n",
    "    return inversionlist\n",
    "\n",
    "# Auxiliary function for computing elementary roots\n",
    "def polynomial_evaluator(x):\n",
    "    '''Given an element of the quotient ring, subs in value for indeterminate \n",
    "       (by lifting the element to the symbolic ring) and evaluates the function\n",
    "       returning a float.'''\n",
    "    \n",
    "    if 't' in str(x):\n",
    "        return RR(SR(str(x))(t1=cos(pi/4), t2=cos(pi/5), t3=cos(pi/6), t4=cos(pi/7), t5=cos(pi/8), t6=cos(pi/9), t7=cos(pi/10), t8=cos(pi/11) ))\n",
    "    else:\n",
    "        return RR(x)\n",
    "\n",
    "def elementary_roots():\n",
    "    '''Returns the set of elementary roots'''\n",
    "    elementary = []\n",
    "    \n",
    "    for i in range(dim_v):\n",
    "        elementary.append(s(i))\n",
    "    \n",
    "    temp_n = 1\n",
    "    counter = 0\n",
    "    \n",
    "    while temp_n < len(elementary):\n",
    "        \n",
    "        new_root_counter = 0\n",
    "        \n",
    "        temp_n = len(elementary)\n",
    "\n",
    "        for root in elementary[counter:]:\n",
    "            for i in range(dim_v):\n",
    "\n",
    "                temp = w_action([s(i)],root)\n",
    "                \n",
    "                temp_i = polynomial_evaluator(temp[i])\n",
    "                root_i = polynomial_evaluator(root[i])\n",
    "\n",
    "                if (temp_i > root_i) and (temp_i-root_i < 2) and temp not in elementary:\n",
    "                    elementary.append(temp)\n",
    "                    new_root_counter += 1\n",
    "        \n",
    "        counter = len(elementary) - new_root_counter - 1\n",
    "                      \n",
    "    return elementary\n",
    "\n",
    "\n",
    "def elementary_inversion_set(w, elementary):\n",
    "    '''returns the left elementary inversion set of an element, but compute the elementary roots first and input it, \n",
    "       to avoid recalculating it everytime.'''\n",
    "    \n",
    "    inver = inversion_set(w)   \n",
    "    e_inversion = [root for root in elementary if root in inver]\n",
    "    \n",
    "    return e_inversion\n",
    "\n",
    "def left_length_increase(word, s):\n",
    "    '''Tells you whether a word input as a list of simple roots, increases in length by multiplication by s on the left'''\n",
    "    \n",
    "    if word[0] == s:\n",
    "        return False\n",
    "    \n",
    "    word_copy = word[:]\n",
    "    word_copy.reverse()\n",
    "    \n",
    "    root = w_action(word_copy, s)\n",
    "    \n",
    "    sum_root = sum(map(lambda x: polynomial_evaluator(x), root))\n",
    "\n",
    "    if sum_root >= 0:\n",
    "        return True\n",
    "    else:\n",
    "        return False\n",
    "    \n",
    "\n",
    "def words_are_same_element(word1, word2):\n",
    "    '''Given two reduced words, determine whether they are the same element \n",
    "    by checking if their inversion sets are the same'''\n",
    "    \n",
    "    # this only works because we assume words are reduced\n",
    "    if len(word1) != len(word2):\n",
    "        return False\n",
    "    \n",
    "    inversion_intersection = [root for root in inversion_set(word1) if root in inversion_set(word2)]\n",
    "    \n",
    "    if len(inversion_intersection) != len(word1):\n",
    "        return False\n",
    "    else:\n",
    "        return True\n",
    "\n",
    "\n",
    "def simple_refl_replacer(simple_refl):\n",
    "    if simple_refl == s(0):\n",
    "        return 's'\n",
    "    elif simple_refl == s(1):\n",
    "        return 't'\n",
    "    elif simple_refl == s(2):\n",
    "        return 'u'\n",
    "    elif simple_refl == s(3):\n",
    "        return 'v'\n",
    "    elif simple_refl == s(4):\n",
    "        return 'w'\n",
    "\n",
    "def word_nice(word):\n",
    "    '''prints word (as a vector of simple roots) as a nice string of letters'''  \n",
    "    word_s = ''\n",
    "    word_string = [simple_refl_replacer(x) for x in word]\n",
    "    \n",
    "    for letter in word_string:\n",
    "        word_s = word_s + letter\n",
    "    \n",
    "    return word_s\n",
    "\n",
    "def letter_to_basis_replacer(letter):\n",
    "    if letter == 's':\n",
    "        return s(0)\n",
    "    if letter == 't':\n",
    "        return s(1)\n",
    "    if letter == 'u':\n",
    "        return s(2)\n",
    "    if letter == 'v':\n",
    "        return s(3)\n",
    "    if letter == 'w':\n",
    "        return s(4)\n",
    "\n",
    "def wordnice_to_vectorlist(word):\n",
    "    '''Given a nice presented word returns a list of simple vectors representing the word for computation'''\n",
    "    word_list = [letter_to_basis_replacer(s) for s in word]\n",
    "    \n",
    "    return word_list\n",
    "\n",
    "\n",
    "def elementary_inversion_lists_same(e1, e2):\n",
    "    '''given two elementary inversion lists, check whether they are the same as sets'''\n",
    "    if len(e1) != len(e2):\n",
    "        return False\n",
    "    \n",
    "    e_intersection = [root for root in e1 if root in e2]\n",
    "    \n",
    "    if e_intersection == e1:\n",
    "        return True\n",
    "    else:\n",
    "        return False\n",
    "    "
   ]
  },
  {
   "cell_type": "code",
   "execution_count": 38,
   "metadata": {},
   "outputs": [
    {
     "data": {
      "text/plain": [
       "[(1, 0, 0), (0, 0, 1), (1, 1, 2*t5), (2*t5, 2*t5, 4*t5^2 - 1)]"
      ]
     },
     "execution_count": 38,
     "metadata": {},
     "output_type": "execute_result"
    }
   ],
   "source": [
    "elementary_inversion_set(wordnice_to_vectorlist('ustu'), elementary38)"
   ]
  },
  {
   "cell_type": "markdown",
   "metadata": {},
   "source": [
    "## Some Global constants"
   ]
  },
  {
   "cell_type": "code",
   "execution_count": 37,
   "metadata": {},
   "outputs": [
    {
     "data": {
      "text/plain": [
       "[(1, 0, 0),\n",
       " (0, 1, 0),\n",
       " (0, 0, 1),\n",
       " (1, 1, 0),\n",
       " (0, 1, 2*t5),\n",
       " (0, 2*t5, 1),\n",
       " (1, 1, 2*t5),\n",
       " (0, 4*t5^2 - 1, 2*t5),\n",
       " (2*t5, 2*t5, 1),\n",
       " (0, 2*t5, 4*t5^2 - 1),\n",
       " (0, 4*t5^2 - 1, 8*t5^3 - 4*t5),\n",
       " (2*t5, 2*t5, 4*t5^2 - 1),\n",
       " (0, 8*t5^3 - 4*t5, 4*t5^2 - 1)]"
      ]
     },
     "execution_count": 37,
     "metadata": {},
     "output_type": "execute_result"
    }
   ],
   "source": [
    "elementary38 = elementary_roots()\n",
    "elementary38"
   ]
  },
  {
   "cell_type": "code",
   "execution_count": 43,
   "metadata": {},
   "outputs": [
    {
     "data": {
      "text/plain": [
       "[(1, 0, 0),\n",
       " (0, 1, 0),\n",
       " (0, 0, 1),\n",
       " (1, 1, 0),\n",
       " (0, 1, 2*t4),\n",
       " (0, 2*t4, 1),\n",
       " (1, 1, 2*t4),\n",
       " (0, 4*t4^2 - 1, 2*t4),\n",
       " (2*t4, 2*t4, 1),\n",
       " (0, 2*t4, 4*t4^2 - 1),\n",
       " (0, 4*t4^2 - 1, 4*t4^2 - 1),\n",
       " (2*t4, 2*t4, 4*t4^2 - 1)]"
      ]
     },
     "execution_count": 43,
     "metadata": {},
     "output_type": "execute_result"
    }
   ],
   "source": [
    "elementary37 = elementary_roots()\n",
    "elementary37"
   ]
  },
  {
   "cell_type": "code",
   "execution_count": null,
   "metadata": {},
   "outputs": [],
   "source": [
    "diff = [root for root ]"
   ]
  },
  {
   "cell_type": "markdown",
   "metadata": {},
   "source": [
    "## BH-Automaton"
   ]
  },
  {
   "cell_type": "code",
   "execution_count": 180,
   "metadata": {},
   "outputs": [],
   "source": [
    "def bh_automata(listofsimplerefls, elementary_roots):\n",
    "    '''Returns the list of states. Input is a list of simple\n",
    "    reflections as words and the elementary roots.'''\n",
    "    \n",
    "    elementary = elementary_roots\n",
    "    \n",
    "    # list of states\n",
    "    state_list = listofsimplerefls\n",
    "    # For optimisation\n",
    "    append = state_list.append\n",
    "    \n",
    "    counter = 0\n",
    "    num_of_new_states = 1\n",
    "    \n",
    "    while num_of_new_states > 0:\n",
    "        \n",
    "        num_of_new_states = 0\n",
    "        \n",
    "        for state in state_list[counter:]:\n",
    "            \n",
    "            counter = len(state_list)-num_of_new_states\n",
    "            \n",
    "            state_vector = wordnice_to_vectorlist(state)\n",
    "            \n",
    "            state_elementary = elementary_inversion_set(state_vector, elementary)\n",
    "            \n",
    "            for j in range(0,dim(v)):\n",
    "                \n",
    "                generator_word = word_nice([s(j)])\n",
    "                \n",
    "                if left_length_increase(state_vector,s(j)):\n",
    "            \n",
    "                    target_state = [s(j)] + state_vector\n",
    "                    target_state_word = word_nice(target_state)\n",
    "                                     \n",
    "                    target_state_elementary_inversion_set = elementary_inversion_set(target_state, elementary)\n",
    "                    \n",
    "                    # If target state elementary inversion set is not in the list of states, add to the list.\n",
    "                    target_state_is_new = True\n",
    "                    \n",
    "                    for st in state_list:\n",
    "                        st_elementary = elementary_inversion_set(wordnice_to_vectorlist(st), elementary)\n",
    "                        \n",
    "                        if elementary_inversion_lists_same(target_state_elementary_inversion_set, st_elementary):    \n",
    "                            target_state_is_new = False\n",
    "                            break\n",
    "                    \n",
    "                    if target_state_is_new == True:\n",
    "                        # add target_state rep to state list\n",
    "                        append(target_state_word)\n",
    "                        num_of_new_states += 1\n",
    "        \n",
    "        print('NUMBER OF STATES IS NOW: ' + str(len(state_list)))\n",
    "        \n",
    "    print('Number of states: ' + str(len(state_list)))\n",
    "    print(state_list)\n",
    "    return state_list\n",
    "            "
   ]
  },
  {
   "cell_type": "code",
   "execution_count": 181,
   "metadata": {},
   "outputs": [
    {
     "name": "stdout",
     "output_type": "stream",
     "text": [
      "NUMBER OF STATES IS NOW: 8\n",
      "NUMBER OF STATES IS NOW: 15\n",
      "NUMBER OF STATES IS NOW: 21\n",
      "NUMBER OF STATES IS NOW: 25\n",
      "NUMBER OF STATES IS NOW: 28\n",
      "NUMBER OF STATES IS NOW: 30\n",
      "NUMBER OF STATES IS NOW: 32\n",
      "NUMBER OF STATES IS NOW: 34\n",
      "NUMBER OF STATES IS NOW: 37\n",
      "NUMBER OF STATES IS NOW: 40\n",
      "NUMBER OF STATES IS NOW: 42\n",
      "NUMBER OF STATES IS NOW: 44\n",
      "NUMBER OF STATES IS NOW: 45\n",
      "NUMBER OF STATES IS NOW: 46\n",
      "NUMBER OF STATES IS NOW: 47\n",
      "NUMBER OF STATES IS NOW: 47\n",
      "Number of states: 47\n",
      "['s', 't', 'u', 'ts', 'us', 'st', 'ut', 'tu', 'sts', 'uts', 'tus', 'ust', 'tut', 'stu', 'utu', 'usts', 'stus', 'utus', 'utut', 'ustu', 'tutu', 'tusts', 'ustus', 'tutut', 'ututu', 'utusts', 'ututut', 'tututu', 'tututut', 'utututu', 'utututut', 'tutututu', 'tutututut', 'ututututu', 'stutututut', 'ututututut', 'tututututu', 'ustutututut', 'tututututut', 'stututututu', 'tustutututut', 'stututututut', 'stustutututut', 'utustutututut', 'ustustutututut', 'tustustutututut', 'utustustutututut']\n"
     ]
    }
   ],
   "source": [
    "b2tildeauto = bh_automata(['s', 't', 'u'], elementary)"
   ]
  },
  {
   "cell_type": "markdown",
   "metadata": {},
   "source": [
    "## Boundary Root minimisation"
   ]
  },
  {
   "cell_type": "code",
   "execution_count": 166,
   "metadata": {},
   "outputs": [],
   "source": [
    "def boundary_roots_of_rep(rep, automata):\n",
    "    '''Returns the boundary roots of a word, input is a nice word'''\n",
    "    rep_elementary = elementary_inversion_set(wordnice_to_vectorlist(rep), elementary)\n",
    "    rep_boundary_roots = []\n",
    "    \n",
    "    # to optimise appending boundary roots\n",
    "    append = rep_boundary_roots.append\n",
    "    \n",
    "    for rep2 in automata:\n",
    "        \n",
    "        if rep2 != rep:\n",
    "            rep2_elementary = elementary_inversion_set(wordnice_to_vectorlist(rep2), elementary)\n",
    "        \n",
    "            elementary_intersection = [root for root in rep_elementary if root in rep2_elementary]\n",
    "                \n",
    "            if len(elementary_intersection) == 1 and elementary_intersection[0] not in rep_boundary_roots:\n",
    "                append(elementary_intersection[0])\n",
    "        \n",
    "    return rep_boundary_roots\n",
    "\n",
    "def boundary_root_minimiser(automata):\n",
    "    \n",
    "    equiv_states = []\n",
    "    \n",
    "    # to optimise appending to equivalent states\n",
    "    append = equiv_states.append\n",
    "    \n",
    "    for rep in automata:\n",
    "        rep_boundary_roots = boundary_roots_of_rep(rep, automata)\n",
    "        \n",
    "        equiv_states_to_rep = [rep2 for rep2 in automata if boundary_roots_of_rep(rep2, automata) == rep_boundary_roots]\n",
    "        equiv_states_to_rep_set = set(equiv_states_to_rep)\n",
    "        \n",
    "        if equiv_states_to_rep_set not in equiv_states:\n",
    "            append(equiv_states_to_rep_set)\n",
    "    \n",
    "    return equiv_states        "
   ]
  },
  {
   "cell_type": "code",
   "execution_count": 182,
   "metadata": {},
   "outputs": [
    {
     "data": {
      "text/plain": [
       "[{'s'},\n",
       " {'t'},\n",
       " {'u'},\n",
       " {'ts'},\n",
       " {'us', 'ust', 'ustu'},\n",
       " {'st', 'stu'},\n",
       " {'ut'},\n",
       " {'tu'},\n",
       " {'sts', 'stus'},\n",
       " {'uts'},\n",
       " {'tus'},\n",
       " {'tut'},\n",
       " {'utu'},\n",
       " {'usts', 'ustus'},\n",
       " {'utus'},\n",
       " {'utut'},\n",
       " {'tutu'},\n",
       " {'tusts'},\n",
       " {'tutut'},\n",
       " {'ututu'},\n",
       " {'utusts'},\n",
       " {'ututut'},\n",
       " {'tututu'},\n",
       " {'tututut'},\n",
       " {'utututu'},\n",
       " {'utututut'},\n",
       " {'tutututu'},\n",
       " {'tutututut'},\n",
       " {'ututututu'},\n",
       " {'stutututut'},\n",
       " {'ututututut'},\n",
       " {'tututututu'},\n",
       " {'ustutututut'},\n",
       " {'tututututut'},\n",
       " {'stututututu'},\n",
       " {'tustutututut'},\n",
       " {'stututututut'},\n",
       " {'stustutututut'},\n",
       " {'utustutututut'},\n",
       " {'ustustutututut'},\n",
       " {'tustustutututut'},\n",
       " {'utustustutututut'}]"
      ]
     },
     "execution_count": 182,
     "metadata": {},
     "output_type": "execute_result"
    }
   ],
   "source": [
    "tester2 = boundary_root_minimiser(b2tildeauto)\n",
    "tester2"
   ]
  },
  {
   "cell_type": "code",
   "execution_count": 183,
   "metadata": {},
   "outputs": [
    {
     "data": {
      "text/plain": [
       "42"
      ]
     },
     "execution_count": 183,
     "metadata": {},
     "output_type": "execute_result"
    }
   ],
   "source": [
    "len(tester2)"
   ]
  },
  {
   "cell_type": "markdown",
   "metadata": {},
   "source": [
    "## Hopcroft minimisation"
   ]
  },
  {
   "cell_type": "code",
   "execution_count": 16,
   "metadata": {},
   "outputs": [],
   "source": [
    "def transition_cross_check(state, s, partition, automata):\n",
    "    '''Given a state, a generator s and a partition, this helper function checks the automaton\n",
    "    to see if the state has an s-transition into a state in the partition.'''\n",
    "    \n",
    "    yes_s_trans_to_partition = False\n",
    "    \n",
    "    for st in automata:\n",
    "        if st[0]==state:\n",
    "            \n",
    "            for trans in st[1:]:\n",
    "\n",
    "                if trans[0]==word_nice([s]) and trans[1] in partition:\n",
    "                                      \n",
    "                    yes_s_trans_to_partition=True\n",
    "                    break\n",
    "        \n",
    "            break\n",
    "        \n",
    "    return yes_s_trans_to_partition\n",
    "\n",
    "\n",
    "def Hopcroft2(automata):\n",
    "    ps = []\n",
    "    pnots = []\n",
    "    \n",
    "    # initial split\n",
    "    for state in automata:\n",
    "        s_count = 0\n",
    "        for trans in state[1:]:\n",
    "            if trans[0]=='s':\n",
    "                ps.append(state[0])\n",
    "                s_count += 1\n",
    "        \n",
    "        if s_count==0:\n",
    "            pnots.append(state[0])\n",
    "    \n",
    "    partition = []\n",
    "    partition.append(ps)\n",
    "    partition.append(pnots)\n",
    "    \n",
    "    num_of_splits = 1\n",
    "    \n",
    "    while num_of_splits > 0:\n",
    "        \n",
    "        num_of_splits = 0\n",
    "        \n",
    "        for p1 in partition:\n",
    "            \n",
    "            len_p1 = len(p1)\n",
    "            \n",
    "            # only need to check for splitting, if the partition contains more than one elementary inversion set\n",
    "            if len_p1 > 1:\n",
    "            \n",
    "                for p2 in partition:\n",
    "                    \n",
    "                    for i in range(0,dim_v):\n",
    "\n",
    "                        # checks to see if s is a transition from this partition\n",
    "                        if left_length_increase(wordnice_to_vectorlist(p1[0]),s(i)):\n",
    "\n",
    "                            ps1 = [state for state in p1 if transition_cross_check(state, s(i), p2, automata)]\n",
    "                            \n",
    "                            len_ps1 = len(ps1)\n",
    "                            \n",
    "                            # Second condition here makes sure ps1 is not p1 (the whole partition)\n",
    "                            if len_ps1 > 0 and len_ps1 < len_p1:\n",
    "                                p_not_s1 = [state for state in p1 if state not in ps1]\n",
    "\n",
    "                                partition.remove(p1)\n",
    "                                partition.append(ps1)\n",
    "                                partition.append(p_not_s1)\n",
    "\n",
    "                                print('Number of partitions: ')\n",
    "                                print(len(partition))\n",
    "\n",
    "                                num_of_splits += 1\n",
    "\n",
    "                                break\n",
    "\n",
    "                    if num_of_splits > 0:\n",
    "                        break\n",
    "                    else:\n",
    "                        continue\n",
    "\n",
    "                if num_of_splits > 0:\n",
    "                    break\n",
    "                else:\n",
    "                    continue\n",
    "\n",
    "        #print('Finished another round, Num of Splits: ')\n",
    "        #print(num_of_splits)\n",
    "\n",
    "        if num_of_splits == 0:\n",
    "            break\n",
    "    \n",
    "    return partition\n",
    "        "
   ]
  },
  {
   "cell_type": "code",
   "execution_count": 17,
   "metadata": {},
   "outputs": [],
   "source": [
    "def check_conjecture(min_automata):\n",
    "    '''Check that there is a unique minimal length cone type representative'''\n",
    "    \n",
    "    conjecture_is_true = True\n",
    "    \n",
    "    for partition in min_automata:\n",
    "        if len(partition) > 1:\n",
    "            min_candidate_as_word = min(partition)\n",
    "            \n",
    "            for el in partition:\n",
    "                if el != min_candidate_as_word:\n",
    "                    \n",
    "                    if min_candidate_as_word in el:\n",
    "                        # this checks if min_candidate is an immediate prefix\n",
    "                        continue\n",
    "                    else:\n",
    "                        min_candidate_as_roots = wordnice_to_vectorlist(min_candidate_as_word)\n",
    "                        min_candidate_inversion = inversion_set(min_candidate_as_roots)\n",
    "                        min_candidate_inversion_copy = min_candidate_inversion[:]\n",
    "                        \n",
    "                        el_inversion_set = inversion_set(wordnice_to_vectorlist(el))\n",
    "                    \n",
    "                        for root in min_candidate_inversion_copy:\n",
    "                            if root in el_inversion_set:\n",
    "                                min_candidate_inversion_copy.remove(root)\n",
    "                        \n",
    "                        if len(min_candidate_inversion_copy) > 0:\n",
    "                            print(\"Conjecture not true\")\n",
    "                            print(partition)\n",
    "                            conjecture_is_true = False\n",
    "                            return conjecture_is_true\n",
    "    \n",
    "    return conjecture_is_true\n",
    "                    \n",
    "                    "
   ]
  },
  {
   "cell_type": "code",
   "execution_count": 21,
   "metadata": {},
   "outputs": [],
   "source": [
    "three7 = [{'s'},\n",
    " {'t'},\n",
    " {'u'},\n",
    " {'ts'},\n",
    " {'us', 'ust', 'ustu'},\n",
    " {'st', 'stu'},\n",
    " {'ut'},\n",
    " {'tu'},\n",
    " {'sts', 'stus'},\n",
    " {'uts'},\n",
    " {'tus'},\n",
    " {'tut'},\n",
    " {'utu'},\n",
    " {'usts', 'ustus'},\n",
    " {'utus'},\n",
    " {'utut'},\n",
    " {'tutu'},\n",
    " {'tusts'},\n",
    " {'tutut'},\n",
    " {'ututu'},\n",
    " {'utusts'},\n",
    " {'stutut'},\n",
    " {'ututut'},\n",
    " {'tututu'},\n",
    " {'ustutut'},\n",
    " {'tututut'},\n",
    " {'stututu'},\n",
    " {'tustutut'},\n",
    " {'stututut'},\n",
    " {'stustutut'},\n",
    " {'utustutut'},\n",
    " {'ustustutut'},\n",
    " {'tustustutut'},\n",
    " {'utustustutut'}]\n",
    "\n",
    "three8 = [{'s'},\n",
    " {'t'},\n",
    " {'u'},\n",
    " {'ts'},\n",
    " {'us', 'ust', 'ustu'},\n",
    " {'st', 'stu'},\n",
    " {'ut'},\n",
    " {'tu'},\n",
    " {'sts', 'stus'},\n",
    " {'uts'},\n",
    " {'tus'},\n",
    " {'tut'},\n",
    " {'utu'},\n",
    " {'usts', 'ustus'},\n",
    " {'utus'},\n",
    " {'utut'},\n",
    " {'tutu'},\n",
    " {'tusts'},\n",
    " {'tutut'},\n",
    " {'ututu'},\n",
    " {'utusts'},\n",
    " {'ututut'},\n",
    " {'tututu'},\n",
    " {'tututut'},\n",
    " {'stututu'},\n",
    " {'utututu'},\n",
    " {'stututut'},\n",
    " {'utututut'},\n",
    " {'ustututu'},\n",
    " {'ustututut'},\n",
    " {'tustututu'},\n",
    " {'tustututut'},\n",
    " {'utustututu'},\n",
    " {'utustututut'},\n",
    " {'tutustututut'},\n",
    " {'ututustututut'}]"
   ]
  },
  {
   "cell_type": "code",
   "execution_count": 48,
   "metadata": {},
   "outputs": [
    {
     "data": {
      "text/plain": [
       "[{'s'},\n",
       " {'t'},\n",
       " {'u'},\n",
       " {'ts'},\n",
       " {'us', 'ust', 'ustu'},\n",
       " {'st', 'stu'},\n",
       " {'ut'},\n",
       " {'tu'},\n",
       " {'sts', 'stus'},\n",
       " {'uts'},\n",
       " {'tus'},\n",
       " {'tut'},\n",
       " {'utu'},\n",
       " {'usts', 'ustus'},\n",
       " {'utus'},\n",
       " {'utut'},\n",
       " {'tutu'},\n",
       " {'tusts'},\n",
       " {'tutut'},\n",
       " {'ututu'},\n",
       " {'utusts'},\n",
       " {'ututut'},\n",
       " {'tututu'},\n",
       " {'tututut'},\n",
       " {'stututu'},\n",
       " {'stututut'}]"
      ]
     },
     "execution_count": 48,
     "metadata": {},
     "output_type": "execute_result"
    }
   ],
   "source": [
    "stuffin3738 = [rep for rep in three7 if rep in three8]\n",
    "stuffin3738\n"
   ]
  },
  {
   "cell_type": "code",
   "execution_count": 57,
   "metadata": {},
   "outputs": [],
   "source": [
    "in37 = elementary_inversion_set(wordnice_to_vectorlist('ututut'), elementary37)"
   ]
  },
  {
   "cell_type": "code",
   "execution_count": 59,
   "metadata": {},
   "outputs": [],
   "source": [
    "in38 = elementary_inversion_set(wordnice_to_vectorlist('ututut'), elementary38)"
   ]
  },
  {
   "cell_type": "code",
   "execution_count": null,
   "metadata": {},
   "outputs": [],
   "source": []
  }
 ],
 "metadata": {
  "kernelspec": {
   "display_name": "SageMath 8.7",
   "language": "",
   "name": "sagemath"
  },
  "language_info": {
   "codemirror_mode": {
    "name": "ipython",
    "version": 2
   },
   "file_extension": ".py",
   "mimetype": "text/x-python",
   "name": "python",
   "nbconvert_exporter": "python",
   "pygments_lexer": "ipython2",
   "version": "2.7.15"
  },
  "widgets": {
   "application/vnd.jupyter.widget-state+json": {
    "state": {},
    "version_major": 2,
    "version_minor": 0
   }
  }
 },
 "nbformat": 4,
 "nbformat_minor": 2
}
