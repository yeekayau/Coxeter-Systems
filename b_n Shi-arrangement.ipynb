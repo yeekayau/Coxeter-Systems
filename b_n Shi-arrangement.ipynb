{
 "cells": [
  {
   "cell_type": "code",
   "execution_count": 1,
   "metadata": {},
   "outputs": [],
   "source": [
    "import numpy as np\n",
    "from scipy.spatial import HalfspaceIntersection"
   ]
  },
  {
   "cell_type": "code",
   "execution_count": 2,
   "metadata": {},
   "outputs": [
    {
     "data": {
      "text/plain": [
       "Vector space of dimension 3 over Real Field with 53 bits of precision"
      ]
     },
     "execution_count": 2,
     "metadata": {},
     "output_type": "execute_result"
    }
   ],
   "source": [
    "n = 3\n",
    "v = VectorSpace(RR, n)\n",
    "v"
   ]
  },
  {
   "cell_type": "code",
   "execution_count": 3,
   "metadata": {},
   "outputs": [
    {
     "data": {
      "text/plain": [
       "[\n",
       "(1.00000000000000, 0.000000000000000, 0.000000000000000),\n",
       "(0.000000000000000, 1.00000000000000, 0.000000000000000),\n",
       "(0.000000000000000, 0.000000000000000, 1.00000000000000)\n",
       "]"
      ]
     },
     "execution_count": 3,
     "metadata": {},
     "output_type": "execute_result"
    }
   ],
   "source": [
    "v.basis()"
   ]
  },
  {
   "cell_type": "code",
   "execution_count": 4,
   "metadata": {},
   "outputs": [],
   "source": [
    "def b_n_positive_roots(n):\n",
    "    '''Returns the positive roots of b_n as a list'''\n",
    "    short_roots = v.basis()\n",
    "    \n",
    "    long_roots = []\n",
    "    \n",
    "    for i in range(1, n+1):\n",
    "        for j in range(1, n+1):\n",
    "            if i < j:\n",
    "                temp = v.basis()[i-1] + v.basis()[j-1]\n",
    "                long_roots.append(temp)\n",
    "                \n",
    "    return short_roots + long_roots"
   ]
  },
  {
   "cell_type": "code",
   "execution_count": 5,
   "metadata": {},
   "outputs": [
    {
     "data": {
      "text/plain": [
       "[(1.00000000000000, 0.000000000000000, 0.000000000000000),\n",
       " (0.000000000000000, 1.00000000000000, 0.000000000000000),\n",
       " (0.000000000000000, 0.000000000000000, 1.00000000000000),\n",
       " (1.00000000000000, 1.00000000000000, 0.000000000000000)]"
      ]
     },
     "execution_count": 5,
     "metadata": {},
     "output_type": "execute_result"
    }
   ],
   "source": [
    "b_n_positive_roots(2)"
   ]
  },
  {
   "cell_type": "code",
   "execution_count": 6,
   "metadata": {},
   "outputs": [
    {
     "data": {
      "text/plain": [
       "0.0"
      ]
     },
     "execution_count": 6,
     "metadata": {},
     "output_type": "execute_result"
    }
   ],
   "source": [
    "np.inner(v.basis()[0], v.basis()[2])"
   ]
  },
  {
   "cell_type": "code",
   "execution_count": 9,
   "metadata": {},
   "outputs": [],
   "source": [
    "import numpy as np\n",
    "from scipy.spatial import HalfspaceIntersection\n",
    "\n",
    "halfspaces = np.array([[-1, 0., 0.], [0., -1., 0.], [2., 1., -4.], [-0.5, 1., -2.]])\n",
    "feasible_point = np.array([0.5, 0.5])\n",
    "hs = HalfspaceIntersection(halfspaces, feasible_point)"
   ]
  },
  {
   "cell_type": "code",
   "execution_count": 12,
   "metadata": {},
   "outputs": [
    {
     "name": "stderr",
     "output_type": "stream",
     "text": [
      "/Applications/SageMath-8.7.app/Contents/Resources/sage/local/lib/python2.7/site-packages/matplotlib/figure.py:457: UserWarning: matplotlib is currently using a non-GUI backend, so cannot show the figure\n",
      "  \"matplotlib is currently using a non-GUI backend, \"\n"
     ]
    },
    {
     "data": {
      "image/png": "[encoded data removed]",
      "text/plain": [
       "<Figure size 432x288 with 1 Axes>"
      ]
     },
     "metadata": {},
     "output_type": "display_data"
    }
   ],
   "source": [
    "import matplotlib.pyplot as plt\n",
    "\n",
    "fig = plt.figure()\n",
    "ax = fig.add_subplot('111', aspect='equal')\n",
    "xlim, ylim = (-1, 3), (-1, 3)\n",
    "ax.set_xlim(xlim)\n",
    "ax.set_ylim(ylim)\n",
    "x = np.linspace(-1, 3, 100)\n",
    "symbols = ['-', '+', 'x', '*']\n",
    "signs = [0, 0, -1, -1]\n",
    "fmt = {\"color\": None, \"edgecolor\": \"b\", \"alpha\": 0.5}\n",
    "for h, sym, sign in zip(halfspaces, symbols, signs):\n",
    "    hlist = h.tolist()\n",
    "    fmt[\"hatch\"] = sym\n",
    "    if h[1]== 0:\n",
    "        ax.axvline(-h[2]/h[0], label='{}x+{}y+{}=0'.format(*hlist))\n",
    "        xi = np.linspace(xlim[sign], -h[2]/h[0], 100)\n",
    "        ax.fill_between(xi, ylim[0], ylim[1], **fmt)\n",
    "    else:\n",
    "        ax.plot(x, (-h[2]-h[0]*x)/h[1], label='{}x+{}y+{}=0'.format(*hlist))\n",
    "        ax.fill_between(x, (-h[2]-h[0]*x)/h[1], ylim[sign], **fmt)\n",
    "x, y = zip(*hs.intersections)\n",
    "ax.plot(x, y, 'o', markersize=8)\n",
    "\n",
    "fig.show()"
   ]
  },
  {
   "cell_type": "code",
   "execution_count": 7,
   "metadata": {},
   "outputs": [
    {
     "ename": "ImportError",
     "evalue": "No module named mayavi",
     "output_type": "error",
     "traceback": [
      "\u001b[0;31m---------------------------------------------------------------------------\u001b[0m",
      "\u001b[0;31mImportError\u001b[0m                               Traceback (most recent call last)",
      "\u001b[0;32m<ipython-input-7-d3c9acbb9e8e>\u001b[0m in \u001b[0;36m<module>\u001b[0;34m()\u001b[0m\n\u001b[0;32m----> 1\u001b[0;31m \u001b[0;32mfrom\u001b[0m \u001b[0mmayavi\u001b[0m \u001b[0;32mimport\u001b[0m \u001b[0mmlab\u001b[0m\u001b[0;34m\u001b[0m\u001b[0m\n\u001b[0m\u001b[1;32m      2\u001b[0m \u001b[0;34m\u001b[0m\u001b[0m\n\u001b[1;32m      3\u001b[0m \u001b[0mX\u001b[0m\u001b[0;34m,\u001b[0m \u001b[0mY\u001b[0m\u001b[0;34m,\u001b[0m \u001b[0mZ\u001b[0m \u001b[0;34m=\u001b[0m \u001b[0mnp\u001b[0m\u001b[0;34m.\u001b[0m\u001b[0mmgrid\u001b[0m\u001b[0;34m[\u001b[0m\u001b[0;34m-\u001b[0m\u001b[0mInteger\u001b[0m\u001b[0;34m(\u001b[0m\u001b[0;36m50\u001b[0m\u001b[0;34m)\u001b[0m\u001b[0;34m:\u001b[0m\u001b[0mInteger\u001b[0m\u001b[0;34m(\u001b[0m\u001b[0;36m50\u001b[0m\u001b[0;34m)\u001b[0m\u001b[0;34m:\u001b[0m\u001b[0mComplexNumber\u001b[0m\u001b[0;34m(\u001b[0m\u001b[0;36m0\u001b[0m\u001b[0;34m,\u001b[0m \u001b[0;34m'100'\u001b[0m\u001b[0;34m)\u001b[0m\u001b[0;34m,\u001b[0m \u001b[0;34m-\u001b[0m\u001b[0mInteger\u001b[0m\u001b[0;34m(\u001b[0m\u001b[0;36m50\u001b[0m\u001b[0;34m)\u001b[0m\u001b[0;34m:\u001b[0m\u001b[0mInteger\u001b[0m\u001b[0;34m(\u001b[0m\u001b[0;36m50\u001b[0m\u001b[0;34m)\u001b[0m\u001b[0;34m:\u001b[0m\u001b[0mComplexNumber\u001b[0m\u001b[0;34m(\u001b[0m\u001b[0;36m0\u001b[0m\u001b[0;34m,\u001b[0m \u001b[0;34m'100'\u001b[0m\u001b[0;34m)\u001b[0m\u001b[0;34m,\u001b[0m \u001b[0;34m-\u001b[0m\u001b[0mInteger\u001b[0m\u001b[0;34m(\u001b[0m\u001b[0;36m50\u001b[0m\u001b[0;34m)\u001b[0m\u001b[0;34m:\u001b[0m\u001b[0mInteger\u001b[0m\u001b[0;34m(\u001b[0m\u001b[0;36m50\u001b[0m\u001b[0;34m)\u001b[0m\u001b[0;34m:\u001b[0m\u001b[0mComplexNumber\u001b[0m\u001b[0;34m(\u001b[0m\u001b[0;36m0\u001b[0m\u001b[0;34m,\u001b[0m \u001b[0;34m'100'\u001b[0m\u001b[0;34m)\u001b[0m\u001b[0;34m]\u001b[0m\u001b[0;34m\u001b[0m\u001b[0m\n\u001b[1;32m      4\u001b[0m \u001b[0;34m\u001b[0m\u001b[0m\n\u001b[1;32m      5\u001b[0m V = ((Integer(2) * X + Integer(3) * Y - Z >= Integer(2)) & \n",
      "\u001b[0;31mImportError\u001b[0m: No module named mayavi"
     ]
    }
   ],
   "source": [
    "from mayavi import mlab\n",
    "\n",
    "X, Y, Z = np.mgrid[-50:50:100j, -50:50:100j, -50:50:100j]\n",
    "\n",
    "V = ((2 * X + 3 * Y - Z >= 2) & \n",
    "     (4 * X - 2 * Y + Z <= 10) &\n",
    "     (X + Y + Z >= 1)).astype(float)\n",
    "\n",
    "mlab.contour3d(X, Y, Z, V, contours=[0.5])"
   ]
  },
  {
   "cell_type": "code",
   "execution_count": null,
   "metadata": {},
   "outputs": [],
   "source": []
  }
 ],
 "metadata": {
  "kernelspec": {
   "display_name": "SageMath 8.7",
   "language": "",
   "name": "sagemath"
  },
  "language_info": {
   "codemirror_mode": {
    "name": "ipython",
    "version": 2
   },
   "file_extension": ".py",
   "mimetype": "text/x-python",
   "name": "python",
   "nbconvert_exporter": "python",
   "pygments_lexer": "ipython2",
   "version": "2.7.15"
  }
 },
 "nbformat": 4,
 "nbformat_minor": 2
}
