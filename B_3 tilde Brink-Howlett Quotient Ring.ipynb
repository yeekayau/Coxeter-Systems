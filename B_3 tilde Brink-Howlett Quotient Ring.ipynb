{
 "cells": [
  {
   "cell_type": "markdown",
   "metadata": {},
   "source": [
    "Set up field for the vector space to work in exact precision"
   ]
  },
  {
   "cell_type": "code",
   "execution_count": 37,
   "metadata": {},
   "outputs": [
    {
     "data": {
      "text/plain": [
       "Univariate Polynomial Ring in x over Rational Field"
      ]
     },
     "execution_count": 37,
     "metadata": {},
     "output_type": "execute_result"
    }
   ],
   "source": [
    "P.<x> = QQ[]\n",
    "P"
   ]
  },
  {
   "cell_type": "code",
   "execution_count": 38,
   "metadata": {},
   "outputs": [
    {
     "data": {
      "text/plain": [
       "Univariate Quotient Polynomial Ring in t over Rational Field with modulus x^2 - 2"
      ]
     },
     "execution_count": 38,
     "metadata": {},
     "output_type": "execute_result"
    }
   ],
   "source": [
    "R.<t> = QuotientRing(P, P.ideal(x^2 - 2))\n",
    "R"
   ]
  },
  {
   "cell_type": "code",
   "execution_count": 39,
   "metadata": {},
   "outputs": [
    {
     "data": {
      "text/plain": [
       "3"
      ]
     },
     "execution_count": 39,
     "metadata": {},
     "output_type": "execute_result"
    }
   ],
   "source": [
    "# Input the complete matrix, not just lower triangular\n",
    "\n",
    "# Coxeter matrix are the values -cos(pi/m) (not just the usual m) but as elements of the polynomial ring\n",
    "coxeter_matrix = matrix([[1,(-1/2)*t,0,0], [(-1/2)*t,1,(-1/2),(-1/2)],[0,(-1/2),1,0],[0,(-1/2),0,1]])\n",
    "\n",
    "coxeter_matrix.rank()"
   ]
  },
  {
   "cell_type": "code",
   "execution_count": 40,
   "metadata": {},
   "outputs": [
    {
     "data": {
      "text/plain": [
       "[     1 -1/2*t      0      0]\n",
       "[-1/2*t      1   -1/2   -1/2]\n",
       "[     0   -1/2      1      0]\n",
       "[     0   -1/2      0      1]"
      ]
     },
     "execution_count": 40,
     "metadata": {},
     "output_type": "execute_result"
    }
   ],
   "source": [
    "coxeter_matrix"
   ]
  },
  {
   "cell_type": "code",
   "execution_count": 41,
   "metadata": {},
   "outputs": [],
   "source": [
    "v = VectorSpace(R,4)\n",
    "v\n",
    "dim_v = 4"
   ]
  },
  {
   "cell_type": "code",
   "execution_count": 92,
   "metadata": {},
   "outputs": [],
   "source": [
    "def bilinear(x,y):\n",
    "    '''Computes the bilinear form of two roots'''\n",
    "    temp = 0\n",
    "    for i in range(dim_v):\n",
    "        for j in range(dim_v):\n",
    "            temp += x[i]*y[j]*(coxeter_matrix[i,j])\n",
    "    return temp\n",
    "\n",
    "def s(i):\n",
    "    '''Returns the ith simple root'''\n",
    "    return v.basis()[i]\n",
    "\n",
    "def simple_reflection(s,x):\n",
    "    return x-2*bilinear(x,s)*s\n",
    "\n",
    "def w_action(word_list,x):\n",
    "    '''Input a word w in the generators as a list and a root \\alpha. Returns w(\\alpha)'''\n",
    "    temp_x = x\n",
    "    word_list.reverse()\n",
    "    \n",
    "    for s in word_list:\n",
    "        temp_x = simple_reflection(s,temp_x)\n",
    "    \n",
    "    # reverse back as it reverses the word outside this function as well\n",
    "    word_list.reverse()\n",
    "    \n",
    "    return temp_x\n",
    "\n",
    "def inversion_set(w):\n",
    "    '''Returns the left inversion set of an element w as a list'''\n",
    "    inversionlist = [w[0]]\n",
    "\n",
    "    for i in range(len(w)-1):        \n",
    "        # note: w[0:i+1] does not include the endpoint i+1\n",
    "        temp = w[0:i+1]\n",
    "        inversionlist.append(w_action(temp,w[i+1]))\n",
    "        \n",
    "    return inversionlist\n",
    "\n",
    "# Auxiliary function for computing elementary roots\n",
    "def polynomial_evaluator(x, num):\n",
    "    '''Given an element of the quotient ring, subs in value for indeterminate \n",
    "       (by lifting the element to the symbolic ring) and evaluates the function\n",
    "       returning a float.'''\n",
    "    \n",
    "    if 't' in str(x):\n",
    "        return RR(SR(str(x).replace('t','t'))(t=num))\n",
    "    else:\n",
    "        return RR(x)\n",
    "\n",
    "def elementary_roots():\n",
    "    '''Returns the set of elementary roots'''\n",
    "    elementary = []\n",
    "    \n",
    "    for i in range(dim_v):\n",
    "        elementary.append(s(i))\n",
    "    \n",
    "    temp_n = 1\n",
    "    counter = 0\n",
    "    \n",
    "    while temp_n < len(elementary):\n",
    "        \n",
    "        new_root_counter = 0\n",
    "        \n",
    "        temp_n = len(elementary)\n",
    "\n",
    "        for root in elementary[counter:]:\n",
    "            for i in range(dim_v):\n",
    "\n",
    "                temp = w_action([s(i)],root)\n",
    "                \n",
    "                temp_i = polynomial_evaluator(temp[i], sqrt(2))\n",
    "                root_i = polynomial_evaluator(root[i], sqrt(2))\n",
    "\n",
    "                if (temp_i > root_i) and (temp_i-root_i < 2) and temp not in elementary:\n",
    "                    elementary.append(temp)\n",
    "                    new_root_counter += 1\n",
    "        \n",
    "        counter = len(elementary) - new_root_counter - 1\n",
    "                      \n",
    "    return elementary\n",
    "\n",
    "\n",
    "def elementary_inversion_set(w, elementary):\n",
    "    '''returns the left elementary inversion set of an element, but compute the elementary roots first and input it, \n",
    "       to avoid recalculating it everytime.'''\n",
    "    \n",
    "    inver = inversion_set(w)\n",
    "    \n",
    "    e_inversion = [root for root in elementary if root in inver]\n",
    "    \n",
    "    return e_inversion\n",
    "\n",
    "def left_length_increase(word, s):\n",
    "    '''Tells you whether a word input as a list of simple roots, increases in length by multiplication by s on the left'''\n",
    "    \n",
    "    if word[0] == s:\n",
    "        return False\n",
    "    \n",
    "    word_copy = word[:]\n",
    "    word_copy.reverse()\n",
    "    \n",
    "    #temp_x = s\n",
    "    \n",
    "    #for t in word_copy:\n",
    "    #   temp_x = simple_reflection(t,temp_x)\n",
    "        \n",
    "        # If the action of a subword on alpha_s is already negative, then the word is not reduced\n",
    "    #   if sum(temp_x) < 0:\n",
    "    #       return False\n",
    "    \n",
    "    root = w_action(word_copy, s)\n",
    "    \n",
    "    sum_root = 0\n",
    "    \n",
    "    for i in root:\n",
    "        sum_root += polynomial_evaluator(i, sqrt(2))\n",
    "    \n",
    "    if sum_root >= 0:\n",
    "        return True\n",
    "    else:\n",
    "        return False\n",
    "\n",
    "def words_are_same_element(word1, word2):\n",
    "    '''Given two reduced words, determine whether they are the same element \n",
    "    by checking if their inversion sets are the same'''\n",
    "    \n",
    "    # this only works because we assume words are reduced\n",
    "    if len(word1) != len(word2):\n",
    "        return False\n",
    "  \n",
    "    w1_inversion = inversion_set(word1)\n",
    "    w2_inversion = inversion_set(word2)\n",
    "        \n",
    "    for root in w1_inversion:\n",
    "        if root in w2_inversion:\n",
    "            w2_inversion.remove(root)\n",
    "    \n",
    "    if len(w2_inversion) == 0:\n",
    "        return True\n",
    "    else:\n",
    "        return False\n",
    "\n",
    "\n",
    "def word_nice(word):\n",
    "    '''prints word (as a vector of simple roots) as a nice string of letters'''\n",
    "    word_string = ''\n",
    "    for vector in word:\n",
    "        if vector == s(0):\n",
    "            word_string += 's'\n",
    "        elif vector == s(1):\n",
    "            word_string += 't'\n",
    "        elif vector == s(2):\n",
    "            word_string += 'u'\n",
    "        else:\n",
    "            word_string += 'v'\n",
    "    \n",
    "    return word_string    \n",
    "\n",
    "def wordnice_to_vectorlist(word):\n",
    "    '''Given a nice presented word returns a list of simple vectors representing the word for computation'''\n",
    "    word_list = []\n",
    "    \n",
    "    for letter in word:\n",
    "        if letter == 's':\n",
    "            word_list.append(s(0))\n",
    "        if letter == 't':\n",
    "            word_list.append(s(1))\n",
    "        if letter == 'u':\n",
    "            word_list.append(s(2))\n",
    "        if letter == 'v':\n",
    "            word_list.append(s(3))\n",
    "    \n",
    "    return word_list\n",
    "\n",
    "\n",
    "def elementary_inversion_lists_same(e1, e2):\n",
    "    '''given two elementary inversion lists, check whether they are the same as sets'''\n",
    "    if len(e1) != len(e2):\n",
    "        return False\n",
    "    \n",
    "    e1_copy = e1[:]\n",
    "    \n",
    "    for root in e1:\n",
    "        if root in e2:\n",
    "            e1_copy.remove(root)\n",
    "        else:\n",
    "            return False\n",
    "    \n",
    "    if len(e1_copy) == 0:\n",
    "        return True\n",
    "    else:\n",
    "        return False"
   ]
  },
  {
   "cell_type": "code",
   "execution_count": 93,
   "metadata": {},
   "outputs": [],
   "source": [
    "def bh_automata():\n",
    "    '''Returns the list of states, where each item is a list with first index a state\n",
    "    and then following items in the list are tuples with a transition letter and target state'''\n",
    "\n",
    "    # list of states and their transition information\n",
    "    # as elementary inversion lists\n",
    "    states_transitions = []\n",
    "    \n",
    "    # list of states only (as representative word)\n",
    "    state_list = ['s', 't', 'u', 'v']\n",
    "    \n",
    "    counter = 0\n",
    "    num_of_new_states = 1\n",
    "    \n",
    "    while num_of_new_states > 0:\n",
    "        \n",
    "        num_of_new_states = 0\n",
    "        \n",
    "        for state in state_list[counter:]:\n",
    "            \n",
    "            counter = len(state_list)-num_of_new_states\n",
    "            \n",
    "            state_vector = wordnice_to_vectorlist(state)\n",
    "            \n",
    "            state_elementary = elementary_inversion_set(state_vector, elementary)\n",
    "\n",
    "            state_info = [state]\n",
    "            \n",
    "            for j in range(0,dim(v)):\n",
    "                #print(' ')\n",
    "                \n",
    "                generator_word = word_nice([s(j)])\n",
    "                #print('Word representing inversion set is: ' + state + ' generator is: ' + generator_word )\n",
    "                \n",
    "                if left_length_increase(state_vector,s(j)):\n",
    "\n",
    "                    #print('Yes, ' + state + ' increases on the left by ' + word_nice([s(j)]))\n",
    "                    \n",
    "                    target_state = [s(j)] + state_vector\n",
    "                    target_state_word = word_nice(target_state)\n",
    "                    \n",
    "                    #print('Word repping Target State: ' + target_state_word)\n",
    "                    \n",
    "                    target_state_elementary_inversion_set = elementary_inversion_set(target_state, elementary)\n",
    "                    \n",
    "                    # If target state elementary inversion set is not in the list of states, add to the list.\n",
    "                    # if already in list, add appropriate transition\n",
    "                    target_state_is_new = True\n",
    "                    \n",
    "                    for st in state_list:\n",
    "                        st_elementary = elementary_inversion_set(wordnice_to_vectorlist(st), elementary)\n",
    "                        \n",
    "                        if elementary_inversion_lists_same(target_state_elementary_inversion_set, st_elementary):\n",
    "                            #print('Its inversion set is already represented in state_list. It has same e-inversion set as ' + st)\n",
    "                            \n",
    "                            transition = (generator_word, st)\n",
    "                            state_info.append(transition)\n",
    "                            \n",
    "                            #print('Added the transition pair (' + generator_word + ', ' + st )\n",
    "                            \n",
    "                            target_state_is_new = False\n",
    "                            break\n",
    "                    \n",
    "                    if target_state_is_new == True:\n",
    "                        # add target_state rep to state list\n",
    "                        state_list.append(target_state_word)\n",
    "                        #print('New State. Adding to state_list, the rep: ' + word_nice(target_state))\n",
    "                        num_of_new_states += 1\n",
    "                                \n",
    "                        transition = (generator_word, target_state_word)\n",
    "                        state_info.append(transition)\n",
    "                        #print('Added the transition pair (' + generator_word + ', ' + target_state_word )\n",
    "\n",
    "                #else:\n",
    "                    #print('No, ' + state + ' decreases by ' + word_nice([s(j)]))\n",
    "                    \n",
    "            states_transitions.append(state_info)\n",
    "        \n",
    "         \n",
    "        #print('num_of_new_states: ' + str(num_of_new_states))\n",
    "        print('NUMBER OF STATES IS NOW: ' + str(len(state_list)))\n",
    "        #print('State reps are: ')\n",
    "        #print(state_list)\n",
    "        #print('The COUNTER is at: ' + str(counter))\n",
    "        \n",
    "    print('Number of states: ' + str(len(state_list)))\n",
    "    print(state_list)\n",
    "    return states_transitions\n",
    "            "
   ]
  },
  {
   "cell_type": "code",
   "execution_count": 89,
   "metadata": {},
   "outputs": [
    {
     "data": {
      "text/plain": [
       "-0.171572875253810"
      ]
     },
     "execution_count": 89,
     "metadata": {},
     "output_type": "execute_result"
    }
   ],
   "source": [
    "RR(SR(str(test[0]).replace('t','t'))(sqrt(2))) - RR(test[1])"
   ]
  },
  {
   "cell_type": "code",
   "execution_count": 90,
   "metadata": {},
   "outputs": [
    {
     "data": {
      "text/plain": [
       "[(1, 0, 0, 0),\n",
       " (0, 1, 0, 0),\n",
       " (0, 0, 1, 0),\n",
       " (0, 0, 0, 1),\n",
       " (1, t, 0, 0),\n",
       " (t, 1, 0, 0),\n",
       " (0, 1, 1, 0),\n",
       " (0, 1, 0, 1),\n",
       " (1, t, t, 0),\n",
       " (1, t, 0, t),\n",
       " (t, 1, 1, 0),\n",
       " (t, 1, 0, 1),\n",
       " (0, 1, 1, 1),\n",
       " (1, t, t, t),\n",
       " (t, 2, 1, 0),\n",
       " (t, 1, 1, 1),\n",
       " (t, 2, 0, 1),\n",
       " (1, 2*t, t, t)]"
      ]
     },
     "execution_count": 90,
     "metadata": {},
     "output_type": "execute_result"
    }
   ],
   "source": [
    "elementary = elementary_roots()\n",
    "elementary"
   ]
  },
  {
   "cell_type": "code",
   "execution_count": 94,
   "metadata": {},
   "outputs": [
    {
     "name": "stdout",
     "output_type": "stream",
     "text": [
      "NUMBER OF STATES IS NOW: 13\n",
      "NUMBER OF STATES IS NOW: 30\n",
      "NUMBER OF STATES IS NOW: 58\n",
      "NUMBER OF STATES IS NOW: 93\n",
      "NUMBER OF STATES IS NOW: 127\n",
      "NUMBER OF STATES IS NOW: 162\n",
      "NUMBER OF STATES IS NOW: 195\n",
      "NUMBER OF STATES IS NOW: 219\n",
      "NUMBER OF STATES IS NOW: 241\n",
      "NUMBER OF STATES IS NOW: 261\n",
      "NUMBER OF STATES IS NOW: 278\n",
      "NUMBER OF STATES IS NOW: 294\n",
      "NUMBER OF STATES IS NOW: 306\n",
      "NUMBER OF STATES IS NOW: 314\n",
      "NUMBER OF STATES IS NOW: 322\n",
      "NUMBER OF STATES IS NOW: 328\n",
      "NUMBER OF STATES IS NOW: 332\n",
      "NUMBER OF STATES IS NOW: 336\n",
      "NUMBER OF STATES IS NOW: 338\n",
      "NUMBER OF STATES IS NOW: 340\n",
      "NUMBER OF STATES IS NOW: 342\n",
      "NUMBER OF STATES IS NOW: 342\n",
      "Number of states: 342\n",
      "['s', 't', 'u', 'v', 'ts', 'us', 'vs', 'st', 'ut', 'vt', 'tu', 'vu', 'tv', 'sts', 'uts', 'vts', 'tus', 'vus', 'tvs', 'tst', 'ust', 'vst', 'tut', 'vut', 'tvt', 'stu', 'vtu', 'tvu', 'stv', 'utv', 'tsts', 'usts', 'vsts', 'tuts', 'vuts', 'tvts', 'stus', 'vtus', 'tvus', 'stvs', 'utvs', 'utst', 'vtst', 'tust', 'vust', 'tvst', 'stut', 'vtut', 'tvut', 'stvt', 'utvt', 'tstu', 'vstu', 'tvtu', 'stvu', 'utvu', 'tstv', 'ustv', 'utsts', 'vtsts', 'tusts', 'vusts', 'tvsts', 'stuts', 'vtuts', 'tvuts', 'stvts', 'utvts', 'tstus', 'vstus', 'tvtus', 'stvus', 'utvus', 'tstvs', 'ustvs', 'tutst', 'vutst', 'tvtst', 'stust', 'stvst', 'tstut', 'vstut', 'tvtut', 'stvut', 'utvut', 'tstvt', 'ustvt', 'utstu', 'stvtu', 'utvtu', 'tstvu', 'ustvu', 'vtstv', 'tutsts', 'vutsts', 'tvtsts', 'stusts', 'vtusts', 'tvusts', 'stvsts', 'utvsts', 'tstuts', 'vstuts', 'tvtuts', 'utvuts', 'tstvts', 'ustvts', 'utstus', 'stvtus', 'utvtus', 'tstvus', 'ustvus', 'vtstvs', 'stutst', 'stvtst', 'tstust', 'tstvst', 'utstut', 'vtstut', 'tvstut', 'stvtut', 'utvtut', 'ustvut', 'utstvt', 'vtstvt', 'tustvt', 'ustvtu', 'stutsts', 'vtutsts', 'tvutsts', 'stvtsts', 'utvtsts', 'tstusts', 'vstusts', 'tvtusts', 'utvusts', 'tstvsts', 'ustvsts', 'utstuts', 'vtstuts', 'tvstuts', 'utvtuts', 'utstvts', 'vtstvts', 'tustvts', 'ustvtus', 'tstutst', 'tstvtst', 'utstust', 'vtstust', 'utstvst', 'vtstvst', 'vutstut', 'tvtstut', 'stvstut', 'tstvtut', 'ustvtut', 'tustvut', 'tutstvt', 'vutstvt', 'stustvt', 'tustvtu', 'tstutsts', 'vstutsts', 'tvtutsts', 'stvutsts', 'utvutsts', 'tstvtsts', 'ustvtsts', 'utstusts', 'vtstusts', 'tvstusts', 'utvtusts', 'utstvsts', 'vtstvsts', 'tustvsts', 'vutstuts', 'tvtstuts', 'tutstvts', 'vutstvts', 'tustvtus', 'utstutst', 'vtstutst', 'utstvtst', 'vtstvtst', 'vutstust', 'vutstvst', 'stvtstut', 'tstvstut', 'utstvtut', 'tustvtut', 'stustvut', 'vtustvut', 'stutstvt', 'stustvtu', 'utstutsts', 'vtstutsts', 'tvstutsts', 'stvtutsts', 'utvtutsts', 'ustvutsts', 'utstvtsts', 'vtstvtsts', 'tustvtsts', 'vutstusts', 'tvtstusts', 'utvstusts', 'tutstvsts', 'vutstvsts', 'vtustvsts', 'vutstutst', 'vutstvtst', 'tvutstust', 'tvutstvst', 'utstvstut', 'tutstvtut', 'stustvtut', 'vtustvtut', 'vstustvut', 'vutstutsts', 'tvtstutsts', 'stvstutsts', 'utvstutsts', 'tstvtutsts', 'ustvtutsts', 'tustvutsts', 'tutstvtsts', 'vutstvtsts', 'stustvtsts', 'vtustvtsts', 'tvutstusts', 'utvtstusts', 'vtutstvsts', 'tvutstvsts', 'tvutstutst', 'tvutstvtst', 'stvutstust', 'stvutstvst', 'stutstvtut', 'vtutstvtut', 'vstustvtut', 'tvutstutsts', 'stvtstutsts', 'utvtstutsts', 'tstvstutsts', 'ustvstutsts', 'utstvtutsts', 'tustvtutsts', 'stustvutsts', 'vtustvutsts', 'stutstvtsts', 'vtutstvtsts', 'tvutstvtsts', 'vstustvtsts', 'stvutstusts', 'utvutstusts', 'tvtutstvsts', 'stvutstvsts', 'stvutstutst', 'stvutstvtst', 'vstutstvtut', 'stvutstutsts', 'utvutstutsts', 'ustvtstutsts', 'utstvstutsts', 'tustvstutsts', 'tutstvtutsts', 'vtustvtutsts', 'vstustvutsts', 'vstutstvtsts', 'tvtutstvtsts', 'stvutstvtsts', 'tvstustvtsts', 'ustvutstusts', 'stvtutstvsts', 'tstvutstutst', 'tstvutstvtst', 'tvstutstvtut', 'tstvutstutsts', 'ustvutstutsts', 'tustvtstutsts', 'tutstvstutsts', 'vtustvstutsts', 'vtutstvtutsts', 'tvstustvutsts', 'tvstutstvtsts', 'stvtutstvtsts', 'tstvutstvtsts', 'utvstustvtsts', 'tustvutstusts', 'tstvtutstvsts', 'utstvutstutst', 'vtstvutstvtst', 'stvstutstvtut', 'utstvutstutsts', 'tustvutstutsts', 'stustvtstutsts', 'vtustvtstutsts', 'vtutstvstutsts', 'utvstustvutsts', 'stvstutstvtsts', 'utvstutstvtsts', 'tstvtutstvtsts', 'vtstvutstvtsts', 'vtustvutstusts', 'utstvtutstvsts', 'tutstvutstutsts', 'stustvutstutsts', 'vtustvutstutsts', 'vstustvtstutsts', 'tstvstutstvtsts', 'ustvstutstvtsts', 'utstvtutstvtsts', 'vtstvtutstvtsts', 'stutstvutstutsts', 'vtutstvutstutsts', 'vstustvutstutsts', 'tvstustvtstutsts', 'utstvstutstvtsts', 'vtstvstutstvtsts', 'tustvstutstvtsts', 'vutstvtutstvtsts', 'vstutstvutstutsts', 'tvstustvutstutsts', 'utvstustvtstutsts', 'tutstvstutstvtsts', 'vutstvstutstvtsts', 'vtustvstutstvtsts', 'tvstutstvutstutsts', 'utvstustvutstutsts', 'vtutstvstutstvtsts', 'tvutstvstutstvtsts', 'stvstutstvutstutsts', 'utvstutstvutstutsts', 'tvtutstvstutstvtsts', 'stvutstvstutstvtsts', 'ustvstutstvutstutsts', 'stvtutstvstutstvtsts', 'tustvstutstvutstutsts', 'tstvtutstvstutstvtsts', 'vtustvstutstvutstutsts', 'utstvtutstvstutstvtsts']\n"
     ]
    }
   ],
   "source": [
    "b3_tilde = bh_automata()"
   ]
  },
  {
   "cell_type": "code",
   "execution_count": 84,
   "metadata": {},
   "outputs": [
    {
     "data": {
      "text/plain": [
       "4"
      ]
     },
     "execution_count": 84,
     "metadata": {},
     "output_type": "execute_result"
    }
   ],
   "source": [
    "len(roo[2])"
   ]
  }
 ],
 "metadata": {
  "kernelspec": {
   "display_name": "SageMath 8.7",
   "language": "",
   "name": "sagemath"
  },
  "language_info": {
   "codemirror_mode": {
    "name": "ipython",
    "version": 2
   },
   "file_extension": ".py",
   "mimetype": "text/x-python",
   "name": "python",
   "nbconvert_exporter": "python",
   "pygments_lexer": "ipython2",
   "version": "2.7.15"
  }
 },
 "nbformat": 4,
 "nbformat_minor": 2
}
